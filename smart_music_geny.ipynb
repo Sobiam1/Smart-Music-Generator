{
  "nbformat": 4,
  "nbformat_minor": 0,
  "metadata": {
    "colab": {
      "name": "smart_music_geny.ipynb",
      "provenance": [],
      "collapsed_sections": [],
      "include_colab_link": true
    },
    "kernelspec": {
      "name": "python3",
      "display_name": "Python 3"
    },
    "accelerator": "GPU"
  },
  "cells": [
    {
      "cell_type": "markdown",
      "metadata": {
        "id": "view-in-github",
        "colab_type": "text"
      },
      "source": [
        "<a href=\"https://colab.research.google.com/github/Sobiam1/Smart-Music-Generator/blob/master/smart_music_geny.ipynb\" target=\"_parent\"><img src=\"https://colab.research.google.com/assets/colab-badge.svg\" alt=\"Open In Colab\"/></a>"
      ]
    },
    {
      "cell_type": "markdown",
      "metadata": {
        "id": "ZNqt8t58XX7a",
        "colab_type": "text"
      },
      "source": [
        "## **Smart music generator based on input songs**"
      ]
    },
    {
      "cell_type": "code",
      "metadata": {
        "id": "ZArsRLrEW7mf",
        "colab_type": "code",
        "outputId": "288f5793-52ec-4a96-fea2-3ad72307e168",
        "colab": {
          "base_uri": "https://localhost:8080/",
          "height": 35
        }
      },
      "source": [
        "# Package to include in your colab notebook to run this file\n",
        "!pip install pydub      # splitting audio files and stuff\n",
        "\n",
        "## Load all necessary packages\n",
        "\n",
        "import numpy as np\n",
        "import pandas as pd\n",
        "import pydub\n",
        "from pydub import AudioSegment\n",
        "from pydub.playback import play\n",
        "\n",
        "from keras.layers import Dense, LSTM, LeakyReLU\n",
        "from keras.models import Sequential, load_model\n",
        "from scipy.io.wavfile import read, write \n",
        "from scipy.io import wavfile"
      ],
      "execution_count": 9,
      "outputs": [
        {
          "output_type": "stream",
          "text": [
            "Requirement already satisfied: pydub in /usr/local/lib/python3.6/dist-packages (0.23.1)\n"
          ],
          "name": "stdout"
        }
      ]
    },
    {
      "cell_type": "code",
      "metadata": {
        "id": "SIY_HXDE75oE",
        "colab_type": "code",
        "colab": {}
      },
      "source": [
        "# # This one is used to upload your file to Google's cloud servers in case you run this on Google Colab\n",
        "from google.colab import files\n",
        "files.upload()"
      ],
      "execution_count": 0,
      "outputs": []
    },
    {
      "cell_type": "code",
      "metadata": {
        "id": "zi6CJT92P0UJ",
        "colab_type": "code",
        "colab": {}
      },
      "source": [
        "# # Converting from mp3 to wav if you have mp3 files instead\n",
        "\n",
        "\n",
        "# pydub.AudioSegment.converter = r\"C:\\Program Files\\ffmpeg\\bin\\ffmpeg.exe\"\n",
        "# pydub.AudioSegment.ffmpeg = r\"C:\\Program Files\\ffmpeg\\bin\\ffmpeg.exe\"\n",
        "\n",
        "\n",
        "# aud = pydub.AudioSegment.from_mp3(\"Kalimba.mp3\")\n",
        "# aud.export(\"Kalimba.wav\", format=\"wav\")\n",
        "# Kalimba = AudioSegment.from_file(\"Numb.wav\", format=\"wav\")\n",
        "# play(Kalimba)\n",
        "\n",
        "# aud = pydub.AudioSegment.from_mp3('Numb_piano.mp3')\n",
        "# aud.export(\"Numb.wav\", format=\"wav\")\n",
        "# numb = AudioSegment.from_file(\"Numb.wav\", format=\"wav\")\n",
        "# play(numb)"
      ],
      "execution_count": 0,
      "outputs": []
    },
    {
      "cell_type": "code",
      "metadata": {
        "id": "Gq2LqiUh3Iy-",
        "colab_type": "code",
        "colab": {}
      },
      "source": [
        "# Load wav files\n",
        "\n",
        "rate, music1 = read('Numb.wav')\n",
        "rate, music2 = read('Kalimba.wav')"
      ],
      "execution_count": 0,
      "outputs": []
    },
    {
      "cell_type": "code",
      "metadata": {
        "id": "RfwvWOp82KJg",
        "colab_type": "code",
        "outputId": "484f497e-42a7-4ad0-89af-484da9b553d5",
        "colab": {
          "base_uri": "https://localhost:8080/",
          "height": 363
        }
      },
      "source": [
        "# Convert samples of the songs to a dataframe\n",
        "# Music files are sampled and converted into discrete signals whre each music second \n",
        "# corresponds to thousands of samples depending in  the sampling rate. Scipy generates 44100 samples per second.\n",
        "# We will try to train the model on just few seconds(the whole data is huge and needs time and computing power...)\n",
        "\n",
        "music1 = pd.DataFrame(music1[0:400000, :])\n",
        "music2 = pd.DataFrame(music2[0:400000, :])\n",
        "\n",
        "music1.head(10)\n",
        "music2.tail(10)\n"
      ],
      "execution_count": 13,
      "outputs": [
        {
          "output_type": "execute_result",
          "data": {
            "text/html": [
              "<div>\n",
              "<style scoped>\n",
              "    .dataframe tbody tr th:only-of-type {\n",
              "        vertical-align: middle;\n",
              "    }\n",
              "\n",
              "    .dataframe tbody tr th {\n",
              "        vertical-align: top;\n",
              "    }\n",
              "\n",
              "    .dataframe thead th {\n",
              "        text-align: right;\n",
              "    }\n",
              "</style>\n",
              "<table border=\"1\" class=\"dataframe\">\n",
              "  <thead>\n",
              "    <tr style=\"text-align: right;\">\n",
              "      <th></th>\n",
              "      <th>0</th>\n",
              "      <th>1</th>\n",
              "    </tr>\n",
              "  </thead>\n",
              "  <tbody>\n",
              "    <tr>\n",
              "      <th>399990</th>\n",
              "      <td>-353</td>\n",
              "      <td>-860</td>\n",
              "    </tr>\n",
              "    <tr>\n",
              "      <th>399991</th>\n",
              "      <td>-667</td>\n",
              "      <td>-1209</td>\n",
              "    </tr>\n",
              "    <tr>\n",
              "      <th>399992</th>\n",
              "      <td>-730</td>\n",
              "      <td>-1011</td>\n",
              "    </tr>\n",
              "    <tr>\n",
              "      <th>399993</th>\n",
              "      <td>-296</td>\n",
              "      <td>-476</td>\n",
              "    </tr>\n",
              "    <tr>\n",
              "      <th>399994</th>\n",
              "      <td>-427</td>\n",
              "      <td>-631</td>\n",
              "    </tr>\n",
              "    <tr>\n",
              "      <th>399995</th>\n",
              "      <td>-1504</td>\n",
              "      <td>-1428</td>\n",
              "    </tr>\n",
              "    <tr>\n",
              "      <th>399996</th>\n",
              "      <td>-2300</td>\n",
              "      <td>-1973</td>\n",
              "    </tr>\n",
              "    <tr>\n",
              "      <th>399997</th>\n",
              "      <td>-1895</td>\n",
              "      <td>-1838</td>\n",
              "    </tr>\n",
              "    <tr>\n",
              "      <th>399998</th>\n",
              "      <td>-1110</td>\n",
              "      <td>-1370</td>\n",
              "    </tr>\n",
              "    <tr>\n",
              "      <th>399999</th>\n",
              "      <td>-877</td>\n",
              "      <td>-1125</td>\n",
              "    </tr>\n",
              "  </tbody>\n",
              "</table>\n",
              "</div>"
            ],
            "text/plain": [
              "           0     1\n",
              "399990  -353  -860\n",
              "399991  -667 -1209\n",
              "399992  -730 -1011\n",
              "399993  -296  -476\n",
              "399994  -427  -631\n",
              "399995 -1504 -1428\n",
              "399996 -2300 -1973\n",
              "399997 -1895 -1838\n",
              "399998 -1110 -1370\n",
              "399999  -877 -1125"
            ]
          },
          "metadata": {
            "tags": []
          },
          "execution_count": 13
        }
      ]
    },
    {
      "cell_type": "code",
      "metadata": {
        "id": "b2p6_ebMQGIT",
        "colab_type": "code",
        "colab": {}
      },
      "source": [
        "# The output of our music dataframe is 2 columns (channels)\n",
        "# We will train two models on these 2 channels and then predict for both channels\n",
        "# At the end wi will concatenate the results toform a new piece of music\n",
        "\n",
        "# Data Preprocessing:\n",
        "# This helper function will prepare data before feeding it to the LSTM neural network\n",
        "# Each model will access one column of the music dataframe. To tackle this as a regresson problem, we will arrange data\n",
        "# so that each value can be predicted based on three previous consecutive values (look_back=3)\n",
        "\n",
        "# Create training data by shifting music data\n",
        "# The helper takes three arguments: dataframe, number of previous values to predict on and train tag(to generate training/test data)\n",
        "# data_x1, data_x2 are the features for channels 1 & 2 which dimensions depend on the 'look_back=3' => array of ( , 3) dimension.\n",
        "# Output: data_x1, data_x2 are features (independant variables). data_y1, data_y2 are labels (dependant variables)\n",
        "# Train=True will generate training data as well as labels i.e. test data\n",
        "def create_train_data(df, look_back, train=True):\n",
        "    data_x1, data_x2, data_y1, data_y2 = [], [], [], []\n",
        "    for i in range(len(df)-look_back-1):\n",
        "        data_x1.append(df.iloc[i : i+look_back, 0].values)\n",
        "        data_x2.append(df.iloc[i : i+look_back, 1].values)\n",
        "        if train:\n",
        "            data_y1.append(df.iloc[i+look_back, 0])\n",
        "            data_y2.append(df.iloc[i+look_back, 1])\n",
        "    if train:\n",
        "        return np.array(data_x1), np.array(data_x2), np.array(data_y1), np.array(data_y2)\n",
        "    else:\n",
        "        return np.array(data_x1), np.array(data_x2)\n",
        "                   \n"
      ],
      "execution_count": 0,
      "outputs": []
    },
    {
      "cell_type": "code",
      "metadata": {
        "id": "7TvXwCTq2h5B",
        "colab_type": "code",
        "colab": {}
      },
      "source": [
        "\n",
        "# Generate trainnig data by concatenating two music1 and music2 dataframes which have two different songs \n",
        "\n",
        "mix = pd.concat([music1.iloc[0:160000, :], music2.iloc[0:160000, :]], axis=0)\n",
        "x1, x2, y1, y2 = create_train_data(mix, look_back=3, train=True)\n",
        "\n",
        "# Generate test data by passing the train parameter to False\n",
        "\n",
        "mix2 = pd.concat([music1.iloc[160001:400000, :], music2.iloc[160001:400000, :]], axis=0)\n",
        "test1, test2 = create_train_data(mix, look_back=3, train=False)\n",
        " \n",
        "# Reshape our 2D data into 3D vector (expected by LSTM)\n",
        "\n",
        "x1 = x1.reshape((-1, 1, 3))\n",
        "x2 = x2.reshape((-1, 1, 3))\n",
        "test1 = test1.reshape((-1, 1, 3))\n",
        "test2 = test2.reshape((-1, 1, 3))"
      ],
      "execution_count": 0,
      "outputs": []
    },
    {
      "cell_type": "code",
      "metadata": {
        "id": "1n_u5d67QVls",
        "colab_type": "code",
        "outputId": "b2eb07e8-bc82-411d-9f0b-e06daaf4ac1c",
        "colab": {
          "base_uri": "https://localhost:8080/",
          "height": 1000
        }
      },
      "source": [
        "# Training the model\n",
        "\n",
        "# LSTM Model for the channel 1 of the music data\n",
        "rn1 = Sequential()\n",
        "rn1.add(LSTM(units=100, activation='relu', input_shape=(None, 3), return_sequences=False))\n",
        "rn1.add(Dense(units=50, activation='relu'))\n",
        "rn1.add(Dense(units=25, activation='relu'))\n",
        "rn1.add(Dense(units=12, activation='relu'))\n",
        "rn1.add(Dense(units=1, activation='relu'))\n",
        "\n",
        "# Compile the model\n",
        "# loss function is used to evaluate the network that is minimized by the 'optimization algorithm'\n",
        "rn1.compile(optimizer='adam', loss='mean_squared_error')\n",
        "\n",
        "# Fit the model:\n",
        "# The network is trained using the backpropagation algorithm and optimized according to the optimization algorithm and loss function \n",
        "# specified when compiling the model\n",
        "# The amount of information displayed can be reduced to just the loss each epoch by setting the verbose argument to 2. \n",
        "# You can turn off all output by setting verbose to 0\n",
        "rn1.fit(x1, y1, batch_size=100, epochs=20, verbose=2)\n"
      ],
      "execution_count": 16,
      "outputs": [
        {
          "output_type": "stream",
          "text": [
            "WARNING:tensorflow:From /usr/local/lib/python3.6/dist-packages/keras/backend/tensorflow_backend.py:66: The name tf.get_default_graph is deprecated. Please use tf.compat.v1.get_default_graph instead.\n",
            "\n",
            "WARNING:tensorflow:From /usr/local/lib/python3.6/dist-packages/keras/backend/tensorflow_backend.py:541: The name tf.placeholder is deprecated. Please use tf.compat.v1.placeholder instead.\n",
            "\n",
            "WARNING:tensorflow:From /usr/local/lib/python3.6/dist-packages/keras/backend/tensorflow_backend.py:4432: The name tf.random_uniform is deprecated. Please use tf.random.uniform instead.\n",
            "\n",
            "WARNING:tensorflow:From /usr/local/lib/python3.6/dist-packages/keras/optimizers.py:793: The name tf.train.Optimizer is deprecated. Please use tf.compat.v1.train.Optimizer instead.\n",
            "\n",
            "WARNING:tensorflow:From /usr/local/lib/python3.6/dist-packages/tensorflow/python/ops/math_grad.py:1250: add_dispatch_support.<locals>.wrapper (from tensorflow.python.ops.array_ops) is deprecated and will be removed in a future version.\n",
            "Instructions for updating:\n",
            "Use tf.where in 2.0, which has the same broadcast rule as np.where\n",
            "WARNING:tensorflow:From /usr/local/lib/python3.6/dist-packages/keras/backend/tensorflow_backend.py:1033: The name tf.assign_add is deprecated. Please use tf.compat.v1.assign_add instead.\n",
            "\n",
            "WARNING:tensorflow:From /usr/local/lib/python3.6/dist-packages/keras/backend/tensorflow_backend.py:1020: The name tf.assign is deprecated. Please use tf.compat.v1.assign instead.\n",
            "\n",
            "Epoch 1/20\n",
            " - 29s - loss: 6912800.9765\n",
            "Epoch 2/20\n",
            " - 25s - loss: 6851603.2298\n",
            "Epoch 3/20\n",
            " - 24s - loss: 6850749.5843\n",
            "Epoch 4/20\n",
            " - 24s - loss: 6852658.8912\n",
            "Epoch 5/20\n",
            " - 24s - loss: 6849899.4421\n",
            "Epoch 6/20\n",
            " - 24s - loss: 6846723.2185\n",
            "Epoch 7/20\n",
            " - 25s - loss: 6847768.4779\n",
            "Epoch 8/20\n",
            " - 24s - loss: 6845727.4149\n",
            "Epoch 9/20\n",
            " - 24s - loss: 6845889.4974\n",
            "Epoch 10/20\n",
            " - 25s - loss: 6846834.5277\n",
            "Epoch 11/20\n",
            " - 24s - loss: 6846937.6400\n",
            "Epoch 12/20\n",
            " - 24s - loss: 6845821.1969\n",
            "Epoch 13/20\n",
            " - 24s - loss: 6844924.4651\n",
            "Epoch 14/20\n",
            " - 24s - loss: 6844864.7047\n",
            "Epoch 15/20\n",
            " - 25s - loss: 6846425.3715\n",
            "Epoch 16/20\n",
            " - 24s - loss: 6843965.0380\n",
            "Epoch 17/20\n",
            " - 25s - loss: 6844220.4728\n",
            "Epoch 18/20\n",
            " - 24s - loss: 6843514.7974\n",
            "Epoch 19/20\n",
            " - 24s - loss: 6842734.5197\n",
            "Epoch 20/20\n",
            " - 24s - loss: 6842627.3456\n"
          ],
          "name": "stdout"
        },
        {
          "output_type": "execute_result",
          "data": {
            "text/plain": [
              "<keras.callbacks.History at 0x7fb61b5c7710>"
            ]
          },
          "metadata": {
            "tags": []
          },
          "execution_count": 16
        }
      ]
    },
    {
      "cell_type": "code",
      "metadata": {
        "id": "3N6PsxIOQXhA",
        "colab_type": "code",
        "outputId": "2b2066c3-acd5-4629-e719-60140640ebbf",
        "colab": {
          "base_uri": "https://localhost:8080/",
          "height": 770
        }
      },
      "source": [
        "# LSTM Model for the channel 2 of the music data\n",
        "rn2 = Sequential()\n",
        "rn2.add(LSTM(units=100, activation='relu', input_shape=(None, 3), return_sequences=False))\n",
        "rn2.add(Dense(units=50, activation='relu'))\n",
        "rn2.add(Dense(units=25, activation='relu'))\n",
        "rn2.add(Dense(units=12, activation='relu'))\n",
        "rn2.add(Dense(units=1, activation='relu'))\n",
        "\n",
        "# Compile the model\n",
        "# loss function is used to evaluate the network that is minimized by the 'optimization algorithm'\n",
        "rn2.compile(optimizer='adam', loss='mean_squared_error')\n",
        "\n",
        "#Fit the model:\n",
        "rn2.fit(x2, y2, batch_size=100, epochs=20, verbose=2)"
      ],
      "execution_count": 19,
      "outputs": [
        {
          "output_type": "stream",
          "text": [
            "Epoch 1/20\n",
            " - 25s - loss: 6466135.4167\n",
            "Epoch 2/20\n",
            " - 24s - loss: 6387597.2827\n",
            "Epoch 3/20\n",
            " - 24s - loss: 6383537.6073\n",
            "Epoch 4/20\n",
            " - 24s - loss: 6384729.2867\n",
            "Epoch 5/20\n",
            " - 25s - loss: 6384231.4448\n",
            "Epoch 6/20\n",
            " - 24s - loss: 6382619.2041\n",
            "Epoch 7/20\n",
            " - 25s - loss: 6381034.0925\n",
            "Epoch 8/20\n",
            " - 25s - loss: 6381342.2450\n",
            "Epoch 9/20\n",
            " - 24s - loss: 6382655.0634\n",
            "Epoch 10/20\n",
            " - 24s - loss: 6381332.5240\n",
            "Epoch 11/20\n",
            " - 24s - loss: 6378800.9163\n",
            "Epoch 12/20\n",
            " - 24s - loss: 6379946.8249\n",
            "Epoch 13/20\n",
            " - 25s - loss: 6377641.9624\n",
            "Epoch 14/20\n",
            " - 25s - loss: 6380650.8197\n",
            "Epoch 15/20\n",
            " - 25s - loss: 6381861.1760\n",
            "Epoch 16/20\n",
            " - 24s - loss: 6377444.5230\n",
            "Epoch 17/20\n",
            " - 25s - loss: 6378242.9656\n",
            "Epoch 18/20\n",
            " - 25s - loss: 6377394.7227\n",
            "Epoch 19/20\n",
            " - 25s - loss: 6376108.9159\n",
            "Epoch 20/20\n",
            " - 25s - loss: 6377099.9401\n"
          ],
          "name": "stdout"
        },
        {
          "output_type": "execute_result",
          "data": {
            "text/plain": [
              "<keras.callbacks.History at 0x7fb5cc0216a0>"
            ]
          },
          "metadata": {
            "tags": []
          },
          "execution_count": 19
        }
      ]
    },
    {
      "cell_type": "code",
      "metadata": {
        "id": "YNWwDIehQa_W",
        "colab_type": "code",
        "colab": {}
      },
      "source": [
        "# Prediction on the training data\n",
        "\n",
        "pred_rn1 = rn1.predict(test1)\n",
        "pred_rn2 = rn1.predict(test2)\n",
        "\n",
        "# Save results in wav formats to compare them\n",
        "\n",
        "# Save the LSTM predictions in wav format\n",
        "write('pred_song.wav', rate, pd.concat([pd.DataFrame(pred_rn1.astype('int16')),\n",
        "                                       pd.DataFrame(pred_rn2.astype('int16'))], axis=1).values)\n",
        "                                       \n",
        "# Save the original music in wav format\n",
        "write('original.wav', rate, pd.concat([music1.iloc[160001 : 400000, :], \n",
        "                                       music2.iloc[160001 : 400000, :]], axis=0).values)"
      ],
      "execution_count": 0,
      "outputs": []
    },
    {
      "cell_type": "code",
      "metadata": {
        "id": "Xzh5NKDsQgKv",
        "colab_type": "code",
        "colab": {}
      },
      "source": [
        "# This one is used to download your file from Google's cloud servers in case you run this on Google Colab\n",
        "from google.colab import files\n",
        "files.download('pred_song.wav')\n",
        "files.download('original.wav')"
      ],
      "execution_count": 0,
      "outputs": []
    },
    {
      "cell_type": "code",
      "metadata": {
        "id": "MR9TqKNiQu6F",
        "colab_type": "code",
        "colab": {
          "base_uri": "https://localhost:8080/",
          "height": 1000
        },
        "outputId": "0ab9f62a-da59-4935-91ea-b21b9dbe8d27"
      },
      "source": [
        "## RE-Training the model with new Activation function\n",
        "\n",
        "## LSTM Model for the channel 1 of the music data with 'activation=linear' using 'LeakyReLU'\n",
        "rn1 = Sequential()\n",
        "rn1.add(LSTM(units=100, activation='linear', input_shape=(None, 3), return_sequences=False))\n",
        "rn1.add(LeakyReLU())\n",
        "rn1.add(Dense(units=50, activation='linear'))\n",
        "rn1.add(LeakyReLU())\n",
        "rn1.add(Dense(units=25, activation='linear'))\n",
        "rn1.add(LeakyReLU())\n",
        "rn1.add(Dense(units=12, activation='linear'))\n",
        "rn1.add(LeakyReLU())\n",
        "rn1.add(Dense(units=1, activation='linear'))\n",
        "rn1.add(LeakyReLU())\n",
        "\n",
        "# Compile the model\n",
        "# loss function is used to evaluate the network that is minimized by the 'optimization algorithm'\n",
        "rn1.compile(optimizer='adam', loss='mean_squared_error')\n",
        "\n",
        "# Fit the model\n",
        "rn1.fit(x1, y1, batch_size=100, epochs=20, verbose=2)\n",
        "\n",
        "\n",
        "## RE- LSTM Model for the channel 2 of the music data with 'activation=linear' using 'LeakyReLU'\n",
        "rn2 = Sequential()\n",
        "rn2.add(LSTM(units=100, activation='linear', input_shape=(None, 3), return_sequences=False))\n",
        "rn2.add(LeakyReLU())\n",
        "rn2.add(Dense(units=50, activation='linear'))\n",
        "rn2.add(LeakyReLU())\n",
        "rn2.add(Dense(units=25, activation='linear'))\n",
        "rn2.add(LeakyReLU())\n",
        "rn2.add(Dense(units=12, activation='linear'))\n",
        "rn2.add(LeakyReLU())\n",
        "rn2.add(Dense(units=1, activation='linear'))\n",
        "rn2.add(LeakyReLU())\n",
        "\n",
        "# Compile the model\n",
        "# loss function is used to evaluate the network that is minimized by the 'optimization algorithm'\n",
        "rn2.compile(optimizer='adam', loss='mean_squared_error')\n",
        "\n",
        "# Fit the model\n",
        "rn2.fit(x2, y2, batch_size=100, epochs=20, verbose=2)\n",
        "\n"
      ],
      "execution_count": 22,
      "outputs": [
        {
          "output_type": "stream",
          "text": [
            "Epoch 1/20\n",
            " - 26s - loss: 474640.1608\n",
            "Epoch 2/20\n",
            " - 25s - loss: 328532.6887\n",
            "Epoch 3/20\n",
            " - 24s - loss: 326096.9000\n",
            "Epoch 4/20\n",
            " - 25s - loss: 323323.2315\n",
            "Epoch 5/20\n",
            " - 24s - loss: 322886.1751\n",
            "Epoch 6/20\n",
            " - 25s - loss: 320577.4031\n",
            "Epoch 7/20\n",
            " - 25s - loss: 320011.5544\n",
            "Epoch 8/20\n",
            " - 24s - loss: 321898.3345\n",
            "Epoch 9/20\n",
            " - 25s - loss: 319520.3609\n",
            "Epoch 10/20\n",
            " - 25s - loss: 316852.3649\n",
            "Epoch 11/20\n",
            " - 25s - loss: 316270.5992\n",
            "Epoch 12/20\n",
            " - 25s - loss: 314778.6675\n",
            "Epoch 13/20\n",
            " - 25s - loss: 314376.6873\n",
            "Epoch 14/20\n",
            " - 25s - loss: 314475.5482\n",
            "Epoch 15/20\n",
            " - 25s - loss: 314303.8420\n",
            "Epoch 16/20\n",
            " - 24s - loss: 312417.8612\n",
            "Epoch 17/20\n",
            " - 24s - loss: 314708.6318\n",
            "Epoch 18/20\n",
            " - 25s - loss: 312057.9867\n",
            "Epoch 19/20\n",
            " - 25s - loss: 312340.9274\n",
            "Epoch 20/20\n",
            " - 25s - loss: 312838.7066\n",
            "Epoch 1/20\n",
            " - 26s - loss: 470485.6124\n",
            "Epoch 2/20\n",
            " - 25s - loss: 322969.7885\n",
            "Epoch 3/20\n",
            " - 24s - loss: 320122.0645\n",
            "Epoch 4/20\n",
            " - 25s - loss: 318626.4103\n",
            "Epoch 5/20\n",
            " - 25s - loss: 316906.6889\n",
            "Epoch 6/20\n",
            " - 25s - loss: 315130.4995\n",
            "Epoch 7/20\n",
            " - 24s - loss: 314083.6044\n",
            "Epoch 8/20\n",
            " - 24s - loss: 314209.8358\n",
            "Epoch 9/20\n",
            " - 25s - loss: 312885.5846\n",
            "Epoch 10/20\n",
            " - 25s - loss: 313014.9050\n",
            "Epoch 11/20\n",
            " - 25s - loss: 313389.8855\n",
            "Epoch 12/20\n",
            " - 24s - loss: 310779.6811\n",
            "Epoch 13/20\n",
            " - 25s - loss: 311005.8924\n",
            "Epoch 14/20\n",
            " - 25s - loss: 310941.7594\n",
            "Epoch 15/20\n",
            " - 25s - loss: 308129.3017\n",
            "Epoch 16/20\n",
            " - 25s - loss: 309159.1989\n",
            "Epoch 17/20\n",
            " - 25s - loss: 306983.7614\n",
            "Epoch 18/20\n",
            " - 24s - loss: 307360.8969\n",
            "Epoch 19/20\n",
            " - 24s - loss: 306349.2645\n",
            "Epoch 20/20\n",
            " - 25s - loss: 306182.8280\n"
          ],
          "name": "stdout"
        },
        {
          "output_type": "execute_result",
          "data": {
            "text/plain": [
              "<keras.callbacks.History at 0x7fb5ca1699e8>"
            ]
          },
          "metadata": {
            "tags": []
          },
          "execution_count": 22
        }
      ]
    },
    {
      "cell_type": "code",
      "metadata": {
        "id": "C89wjYTw8gq2",
        "colab_type": "code",
        "colab": {}
      },
      "source": [
        "## RE- Predict\n",
        "pred_rn1 = rn1.predict(test1)\n",
        "pred_rn2 = rn2.predict(test2)\n",
        "\n",
        "# Save the LSTM predictions in wav format\n",
        "write('pred_song_update.wav', rate, pd.concat([pd.DataFrame(pred_rn1.astype('int16')),\n",
        "                                       pd.DataFrame(pred_rn2.astype('int16'))], axis=1).values)"
      ],
      "execution_count": 0,
      "outputs": []
    },
    {
      "cell_type": "code",
      "metadata": {
        "id": "PnMewtrnQy08",
        "colab_type": "code",
        "colab": {}
      },
      "source": [
        "# This one is used to download your file from Google's cloud servers in case you run this on Google Colab\n",
        "from google.colab import files\n",
        "files.download('pred_song_update.wav')"
      ],
      "execution_count": 0,
      "outputs": []
    },
    {
      "cell_type": "code",
      "metadata": {
        "id": "6AD74eG-Q1f2",
        "colab_type": "code",
        "colab": {
          "base_uri": "https://localhost:8080/",
          "height": 569
        },
        "outputId": "205caaf4-0681-487d-a0f3-47b6b144d021"
      },
      "source": [
        "import matplotlib.pyplot as plt\n",
        "\n",
        "# This function is used to plot the form of our two output songs forms to compare with original song\n",
        "# These plots give an idea about their forms similarity as well as music signal data (amplitude and frequency)... \n",
        "# but be aware of the delay between them caused during the training...\n",
        "def plot_wavs(file, color, label):\n",
        "  \n",
        "  # Load the data and calculate the time of each sample\n",
        "  samplerate, data = wavfile.read(file)\n",
        "  times = np.arange(len(data))/float(samplerate)\n",
        "\n",
        "  # Make the plot\n",
        "  # You can tweak the figsize (width, height) in inches\n",
        "  plt.figure(figsize=(30, 4))\n",
        "  plt.fill_between(times, data[:,0], data[:,1], color=color, label=label)\n",
        "  plt.xlim(times[0], times[-1])\n",
        "  plt.xlabel('time (s)')\n",
        "  plt.ylabel('amplitude')\n",
        "  plt.savefig('pred_song_update.png', dpi=100)\n",
        "  plt.legend()\n",
        "  plt.show()\n",
        "  \n",
        "plot_wavs('pred_song_update.wav', 'g', \"Predicted song updated\")\n",
        "plot_wavs('original.wav', 'r', \"Original song\")"
      ],
      "execution_count": 28,
      "outputs": [
        {
          "output_type": "display_data",
          "data": {
            "image/png": "[encoded data removed]",
            "text/plain": [
              "<Figure size 2160x288 with 1 Axes>"
            ]
          },
          "metadata": {
            "tags": []
          }
        },
        {
          "output_type": "display_data",
          "data": {
            "image/png": "[encoded data removed]",
            "text/plain": [
              "<Figure size 2160x288 with 1 Axes>"
            ]
          },
          "metadata": {
            "tags": []
          }
        }
      ]
    }
  ]
}